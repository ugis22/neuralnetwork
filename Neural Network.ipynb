{
 "cells": [
  {
   "cell_type": "code",
   "execution_count": 1,
   "metadata": {},
   "outputs": [],
   "source": [
    "%matplotlib notebook\n",
    "\n",
    "import numpy as np\n",
    "import matplotlib.pyplot as plt"
   ]
  },
  {
   "cell_type": "code",
   "execution_count": 2,
   "metadata": {},
   "outputs": [],
   "source": [
    "#Initialize input as a matrix\n",
    "#Each row is a different training example\n",
    "#Each column is a different neuron\n",
    "\n",
    "X = np.array([[0,0,1],\n",
    "              [0,1,1],\n",
    "              [1,0,1],\n",
    "              [1,1,1],\n",
    "              [1,1,1]])\n",
    "\n",
    "\n",
    "#Create output data set\n",
    "\n",
    "y = np.array([[0],\n",
    "              [1],\n",
    "              [1],\n",
    "              [0],\n",
    "              [0]])\n",
    "\n",
    "#Generate random numbers so we seed them so it can be deterministic,\n",
    "#Same starting points\n",
    "\n",
    "np.random.seed(1)"
   ]
  },
  {
   "cell_type": "code",
   "execution_count": 3,
   "metadata": {},
   "outputs": [],
   "source": [
    "#Build a sigmoid function to map any value to a value between zero and one\n",
    "\n",
    "# Refers to case of logistic function defined by: s(x) = 1/(1+e^-x) \n",
    "# which derivative is bell shape. derivative is equal to f(x)*(1-f(x))\n",
    "\n",
    "def sigmoid(x, deriv = False):\n",
    "    if deriv == True:\n",
    "        return x*(1-x)\n",
    "    return 1/(1+np.exp(-x))"
   ]
  },
  {
   "cell_type": "code",
   "execution_count": 4,
   "metadata": {},
   "outputs": [],
   "source": [
    "#Create Synapsis matrix\n",
    "syn0 = 2+np.random.random((3,4)) -1\n",
    "syn1 = 2+np.random.random((4,1)) -1"
   ]
  },
  {
   "cell_type": "code",
   "execution_count": 5,
   "metadata": {},
   "outputs": [
    {
     "name": "stdout",
     "output_type": "stream",
     "text": [
      "Error0.5986417862651664\n",
      "Error0.011248212649242084\n",
      "Error0.007768931511357084\n",
      "Error0.00628264906856049\n",
      "Error0.005410802437415019\n",
      "Error0.004821519272064451\n"
     ]
    }
   ],
   "source": [
    "#Training\n",
    "\n",
    "#For loop iterate over the training set\n",
    "for i in range(60000):\n",
    "    \n",
    "    #First layer is the input\n",
    "    l0 = X\n",
    "    \n",
    "    #Second layer can be obtained with the multiplication of each layer \n",
    "    #and its synapsis and then running sigmoid function\n",
    "    l1 = sigmoid(np.dot(l0, syn0))\n",
    "    \n",
    "    #Do the same with l1 and its synapsis \n",
    "    l2 = sigmoid(np.dot(l1,syn1))\n",
    "    \n",
    "    #Compute the error by checking how far the prediction \n",
    "    #is from the real value\n",
    "    l2_error = y - l2\n",
    "    \n",
    "    \n",
    "    #Print average error rate at a set interval to make sure\n",
    "    #it goes down every time\n",
    "    if(i%10000) == 0:\n",
    "        print(\"Error\"+str(np.mean(np.abs(l2_error))))\n",
    "\n",
    "    #multiply error rate by result of sigmoide on l2 to get derivative\n",
    "    #from output\n",
    "    #Delta will be use to reduce error rate of prediction when update syn\n",
    "    l2_delta = l2_error*sigmoid(l2, deriv=True)\n",
    "    \n",
    "    #How much l1 contributed to error in l2 (backpropagation). Multiply\n",
    "    #layer2_delta with syn1 transpose\n",
    "    l1_error = l2_delta.dot(syn1.T)\n",
    "    \n",
    "    #get delta for l1\n",
    "    l1_delta = l1_error * sigmoid(l1, deriv=True)\n",
    "    \n",
    "    #Update our synapse rates to reduce the error rate every iteration\n",
    "    #Gradient Descent: multiply each layer by a delta\n",
    "    syn1 += l1.T.dot(l2_delta)\n",
    "    syn0 += l0.T.dot(l1_delta)   "
   ]
  },
  {
   "cell_type": "code",
   "execution_count": 6,
   "metadata": {},
   "outputs": [
    {
     "name": "stdout",
     "output_type": "stream",
     "text": [
      "The output after the training is\n",
      "[[0.00137467]\n",
      " [0.99451019]\n",
      " [0.99453111]\n",
      " [0.00480686]\n",
      " [0.00480686]]\n"
     ]
    }
   ],
   "source": [
    "print(\"The output after the training is\")\n",
    "print(l2) "
   ]
  },
  {
   "cell_type": "code",
   "execution_count": 7,
   "metadata": {},
   "outputs": [
    {
     "ename": "NameError",
     "evalue": "name 'x' is not defined",
     "output_type": "error",
     "traceback": [
      "\u001b[0;31m---------------------------------------------------------------------------\u001b[0m",
      "\u001b[0;31mNameError\u001b[0m                                 Traceback (most recent call last)",
      "\u001b[0;32m<ipython-input-7-396a1834bcff>\u001b[0m in \u001b[0;36m<module>\u001b[0;34m()\u001b[0m\n\u001b[1;32m      1\u001b[0m \u001b[0mz\u001b[0m \u001b[0;34m=\u001b[0m \u001b[0mnp\u001b[0m\u001b[0;34m.\u001b[0m\u001b[0marange\u001b[0m\u001b[0;34m(\u001b[0m\u001b[0;34m-\u001b[0m\u001b[0;36m10\u001b[0m\u001b[0;34m,\u001b[0m \u001b[0;36m10\u001b[0m\u001b[0;34m,\u001b[0m \u001b[0;36m0.3\u001b[0m\u001b[0;34m)\u001b[0m\u001b[0;34m\u001b[0m\u001b[0m\n\u001b[1;32m      2\u001b[0m \u001b[0msigm\u001b[0m \u001b[0;34m=\u001b[0m \u001b[0;36m1\u001b[0m \u001b[0;34m/\u001b[0m \u001b[0;34m(\u001b[0m\u001b[0;36m1\u001b[0m \u001b[0;34m+\u001b[0m \u001b[0mnp\u001b[0m\u001b[0;34m.\u001b[0m\u001b[0mexp\u001b[0m\u001b[0;34m(\u001b[0m\u001b[0;34m-\u001b[0m\u001b[0mz\u001b[0m\u001b[0;34m)\u001b[0m\u001b[0;34m)\u001b[0m\u001b[0;34m\u001b[0m\u001b[0m\n\u001b[0;32m----> 3\u001b[0;31m \u001b[0mplt\u001b[0m\u001b[0;34m.\u001b[0m\u001b[0mplot\u001b[0m\u001b[0;34m(\u001b[0m\u001b[0mx\u001b[0m\u001b[0;34m,\u001b[0m \u001b[0msigm\u001b[0m\u001b[0;34m,\u001b[0m \u001b[0mcolor\u001b[0m \u001b[0;34m=\u001b[0m \u001b[0;34m'mediumvioletred'\u001b[0m\u001b[0;34m,\u001b[0m \u001b[0mlinewidth\u001b[0m\u001b[0;34m=\u001b[0m \u001b[0;36m1.5\u001b[0m\u001b[0;34m)\u001b[0m\u001b[0;34m\u001b[0m\u001b[0m\n\u001b[0m\u001b[1;32m      4\u001b[0m \u001b[0mplt\u001b[0m\u001b[0;34m.\u001b[0m\u001b[0mxlabel\u001b[0m\u001b[0;34m(\u001b[0m\u001b[0;34m'Z'\u001b[0m\u001b[0;34m,\u001b[0m \u001b[0msize\u001b[0m \u001b[0;34m=\u001b[0m \u001b[0;36m14\u001b[0m\u001b[0;34m,\u001b[0m \u001b[0malpha\u001b[0m \u001b[0;34m=\u001b[0m \u001b[0;36m0.8\u001b[0m\u001b[0;34m)\u001b[0m\u001b[0;34m\u001b[0m\u001b[0m\n\u001b[1;32m      5\u001b[0m \u001b[0mplt\u001b[0m\u001b[0;34m.\u001b[0m\u001b[0mylabel\u001b[0m\u001b[0;34m(\u001b[0m\u001b[0;34m'σ(z)'\u001b[0m\u001b[0;34m,\u001b[0m \u001b[0msize\u001b[0m \u001b[0;34m=\u001b[0m \u001b[0;36m14\u001b[0m\u001b[0;34m,\u001b[0m \u001b[0malpha\u001b[0m \u001b[0;34m=\u001b[0m \u001b[0;36m0.8\u001b[0m\u001b[0;34m)\u001b[0m\u001b[0;34m\u001b[0m\u001b[0m\n",
      "\u001b[0;31mNameError\u001b[0m: name 'x' is not defined"
     ]
    }
   ],
   "source": [
    "z = np.arange(-10, 10, 0.3)\n",
    "sigm = 1 / (1 + np.exp(-z))\n",
    "plt.plot(x, sigm, color = 'mediumvioletred', linewidth= 1.5)\n",
    "plt.xlabel('Z', size = 14, alpha = 0.8)\n",
    "plt.ylabel('σ(z)', size = 14, alpha = 0.8)\n",
    "a = plt.title('Sigmoid Function', size = 14)\n",
    "a.set_position([.5, 1.05])"
   ]
  },
  {
   "cell_type": "code",
   "execution_count": 8,
   "metadata": {},
   "outputs": [
    {
     "name": "stdout",
     "output_type": "stream",
     "text": [
      "[0. 1. 1.]\n"
     ]
    }
   ],
   "source": [
    "def perceptron(X, Y):\n",
    "    w = np.zeros(len(X[0]))\n",
    "    eta = 1\n",
    "    epochs = 20\n",
    "\n",
    "    for t in range(epochs):\n",
    "        for i, x in enumerate(X):\n",
    "            if (np.dot(X[i], w)*Y[i]) <= 0:\n",
    "                w = w + eta*X[i]*Y[i]\n",
    "\n",
    "    return w\n",
    "\n",
    "w = perceptron(X,y)\n",
    "print(w)"
   ]
  },
  {
   "cell_type": "code",
   "execution_count": null,
   "metadata": {},
   "outputs": [],
   "source": []
  }
 ],
 "metadata": {
  "kernelspec": {
   "display_name": "Python 3",
   "language": "python",
   "name": "python3"
  },
  "language_info": {
   "codemirror_mode": {
    "name": "ipython",
    "version": 3
   },
   "file_extension": ".py",
   "mimetype": "text/x-python",
   "name": "python",
   "nbconvert_exporter": "python",
   "pygments_lexer": "ipython3",
   "version": "3.6.6"
  }
 },
 "nbformat": 4,
 "nbformat_minor": 2
}
