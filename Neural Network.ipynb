{
 "cells": [
  {
   "cell_type": "code",
   "execution_count": 1,
   "metadata": {},
   "outputs": [],
   "source": [
    "import numpy as np"
   ]
  },
  {
   "cell_type": "code",
   "execution_count": 2,
   "metadata": {},
   "outputs": [],
   "source": [
    "#Build a sigmoid function to map any value to a value between zero and one\n",
    "\n",
    "# Refers to case of logistic function defined by: s(x) = 1/(1+e^-x) \n",
    "# which derivative is bell shape. derivative is equal to f(x)*(1-f(x))\n",
    "\n",
    "def sigmoid_function(x, deriv = False):\n",
    "    if deriv == True:\n",
    "        return x*(1-x)\n",
    "    return 1/(1+np.exp(-x))"
   ]
  },
  {
   "cell_type": "code",
   "execution_count": 3,
   "metadata": {},
   "outputs": [],
   "source": [
    "#Initialize input as a matrix\n",
    "#Each row is a different training example\n",
    "#Each column is a different neuron\n",
    "\n",
    "X = np.array([[0,0,1],\n",
    "              [0,1,1],\n",
    "              [1,0,1],\n",
    "              [1,1,1]])\n",
    "\n",
    "\n",
    "#Create output data set\n",
    "\n",
    "y = np.array([[0],\n",
    "              [1],\n",
    "              [1],\n",
    "              [0]])\n",
    "\n",
    "#Generate random numbers so we seed them so it can be deterministic,\n",
    "#Same starting points\n",
    "\n",
    "np.random.seed(1)\n"
   ]
  },
  {
   "cell_type": "code",
   "execution_count": 5,
   "metadata": {},
   "outputs": [],
   "source": [
    "#Create Synapsis matrix\n",
    "syn0 = 2+np.random.random((3,4)) -1\n",
    "syn1 = 2+np.random.random((4,1)) -1"
   ]
  },
  {
   "cell_type": "code",
   "execution_count": null,
   "metadata": {},
   "outputs": [],
   "source": [
    "#Training\n",
    "\n",
    "#For loop iterate over the training set\n",
    "for i in range(60000):\n",
    "    \n",
    "    #First layer is the input\n",
    "    l0 = X\n",
    "    \n",
    "    #Second layer can be obtained with the multiplication of each layer \n",
    "    #and its synapsis and then running sigmoid function\n",
    "    l1 = sigmoid(np.dot(l0, syn0))\n",
    "    \n",
    "    \n",
    "    l2 = sigmoid(np.dot(l1,syn1))\n",
    "    \n",
    "    l2_error = y - l2\n",
    "    \n",
    "    if(i%10000) == 0:\n",
    "        print(\"Error\"+str(np.mean(np.abs(l2_error))))\n",
    "\n",
    "    "
   ]
  }
 ],
 "metadata": {
  "kernelspec": {
   "display_name": "Python 3",
   "language": "python",
   "name": "python3"
  },
  "language_info": {
   "codemirror_mode": {
    "name": "ipython",
    "version": 3
   },
   "file_extension": ".py",
   "mimetype": "text/x-python",
   "name": "python",
   "nbconvert_exporter": "python",
   "pygments_lexer": "ipython3",
   "version": "3.6.6"
  }
 },
 "nbformat": 4,
 "nbformat_minor": 2
}
