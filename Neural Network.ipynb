{
 "cells": [
  {
   "cell_type": "code",
   "execution_count": 6,
   "metadata": {},
   "outputs": [],
   "source": [
    "import numpy as np"
   ]
  },
  {
   "cell_type": "code",
   "execution_count": 7,
   "metadata": {},
   "outputs": [],
   "source": [
    "#Build a sigmoid function to map any value to a value between zero and one\n",
    "\n",
    "# Refers to case of logistic function defined by: s(x) = 1/(1+e^-x) \n",
    "# which derivative is bell shape. derivative is equal to f(x)*(1-f(x))\n",
    "\n",
    "def sigmoid(x, deriv = False):\n",
    "    if deriv == True:\n",
    "        return x*(1-x)\n",
    "    return 1/(1+np.exp(-x))"
   ]
  },
  {
   "cell_type": "code",
   "execution_count": 8,
   "metadata": {},
   "outputs": [],
   "source": [
    "#Initialize input as a matrix\n",
    "#Each row is a different training example\n",
    "#Each column is a different neuron\n",
    "\n",
    "X = np.array([[0,0,1],\n",
    "              [0,1,1],\n",
    "              [1,0,1],\n",
    "              [1,1,1],\n",
    "              [1,1,1]])\n",
    "\n",
    "\n",
    "#Create output data set\n",
    "\n",
    "y = np.array([[0],\n",
    "              [1],\n",
    "              [1],\n",
    "              [0],\n",
    "              [0]])\n",
    "\n",
    "#Generate random numbers so we seed them so it can be deterministic,\n",
    "#Same starting points\n",
    "\n",
    "np.random.seed(1)\n"
   ]
  },
  {
   "cell_type": "code",
   "execution_count": 9,
   "metadata": {},
   "outputs": [],
   "source": [
    "#Create Synapsis matrix\n",
    "syn0 = 2+np.random.random((3,4)) -1\n",
    "syn1 = 2+np.random.random((4,1)) -1"
   ]
  },
  {
   "cell_type": "code",
   "execution_count": 10,
   "metadata": {},
   "outputs": [
    {
     "name": "stdout",
     "output_type": "stream",
     "text": [
      "Error0.5986417862651664\n",
      "Error0.011248212649242084\n",
      "Error0.007768931511357084\n",
      "Error0.00628264906856049\n",
      "Error0.005410802437415019\n",
      "Error0.004821519272064451\n",
      "The output after the training is\n",
      "[[0.00137467]\n",
      " [0.99451019]\n",
      " [0.99453111]\n",
      " [0.00480686]\n",
      " [0.00480686]]\n"
     ]
    }
   ],
   "source": [
    "#Training\n",
    "\n",
    "#For loop iterate over the training set\n",
    "for i in range(60000):\n",
    "    \n",
    "    #First layer is the input\n",
    "    l0 = X\n",
    "    \n",
    "    #Second layer can be obtained with the multiplication of each layer \n",
    "    #and its synapsis and then running sigmoid function\n",
    "    l1 = sigmoid(np.dot(l0, syn0))\n",
    "    \n",
    "    #Do the same with l1 and its synapsis \n",
    "    l2 = sigmoid(np.dot(l1,syn1))\n",
    "    \n",
    "    #Compute the error by checking how far the prediction \n",
    "    #is from the real value\n",
    "    l2_error = y - l2\n",
    "    \n",
    "    \n",
    "    #Print average error rate at a set interval to make sure\n",
    "    #it goes down every time\n",
    "    if(i%10000) == 0:\n",
    "        print(\"Error\"+str(np.mean(np.abs(l2_error))))\n",
    "\n",
    "    #multiply error rate by result of sigmoide on l2 to get derivative\n",
    "    #from output\n",
    "    #Delta will be use to reduce error rate of prediction when update syn\n",
    "    l2_delta = l2_error*sigmoid(l2, deriv=True)\n",
    "    \n",
    "    #How much l1 contributed to error in l2 (backpropagation). Multiply\n",
    "    #layer2_delta with syn1 transpose\n",
    "    l1_error = l2_delta.dot(syn1.T)\n",
    "    \n",
    "    #get delta for l1\n",
    "    l1_delta = l1_error * sigmoid(l1, deriv=True)\n",
    "    \n",
    "    #Update our synapse rates to reduce the error rate every iteration\n",
    "    #Gradient Descent: multiply each layer by a delta\n",
    "    syn1 += l1.T.dot(l2_delta)\n",
    "    syn0 += l0.T.dot(l1_delta)\n",
    "\n",
    "print(\"The output after the training is\")\n",
    "print(l2)    "
   ]
  },
  {
   "cell_type": "code",
   "execution_count": null,
   "metadata": {},
   "outputs": [],
   "source": []
  },
  {
   "cell_type": "code",
   "execution_count": null,
   "metadata": {},
   "outputs": [],
   "source": []
  }
 ],
 "metadata": {
  "kernelspec": {
   "display_name": "Python 3",
   "language": "python",
   "name": "python3"
  },
  "language_info": {
   "codemirror_mode": {
    "name": "ipython",
    "version": 3
   },
   "file_extension": ".py",
   "mimetype": "text/x-python",
   "name": "python",
   "nbconvert_exporter": "python",
   "pygments_lexer": "ipython3",
   "version": "3.6.6"
  }
 },
 "nbformat": 4,
 "nbformat_minor": 2
}
